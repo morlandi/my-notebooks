{
 "cells": [
  {
   "cell_type": "markdown",
   "id": "5199f075-f8bb-4a46-90f2-1be330f165a3",
   "metadata": {},
   "source": [
    "# [How to Run JavaScript in the Jupyter Notebook](https://medium.com/@shouke.wei/how-to-run-javascript-in-jupyter-notebook-325a86402f2f)\n",
    "\n",
    "### 1. Use Magic Command\n",
    " \n",
    "The first handy method is to use magic command %%js, or %%javascript to run JavaScript in the Jupyter notebook."
   ]
  },
  {
   "cell_type": "code",
   "execution_count": 10,
   "id": "03443fff-4ca7-4d4b-802e-d64a001cad64",
   "metadata": {},
   "outputs": [
    {
     "data": {
      "application/javascript": [
       "console.log(\"hello, world!\");\n",
       "element.textContent = \"hello, world!\";\n"
      ],
      "text/plain": [
       "<IPython.core.display.Javascript object>"
      ]
     },
     "metadata": {},
     "output_type": "display_data"
    }
   ],
   "source": [
    "%%js\n",
    "console.log(\"hello, world!\");\n",
    "element.textContent = \"hello, world!\";"
   ]
  },
  {
   "cell_type": "markdown",
   "id": "b23fc08f-1c28-47ac-8392-98641e3f7b5d",
   "metadata": {},
   "source": [
    "### 2. Use IPython JavaScript Module\n",
    "\n",
    "We can also use IPython JavaScript Module to run JavaScript in the Jupyter notebook."
   ]
  },
  {
   "cell_type": "code",
   "execution_count": 8,
   "id": "d4680171-48e6-45e1-ac14-1af0a3a15435",
   "metadata": {},
   "outputs": [
    {
     "data": {
      "application/javascript": [
       "console.log(\"hello, world!\")"
      ],
      "text/plain": [
       "<IPython.core.display.Javascript object>"
      ]
     },
     "metadata": {},
     "output_type": "display_data"
    }
   ],
   "source": [
    "from IPython.display import Javascript\n",
    "\n",
    "simpjs = Javascript('console.log(\"hello, world!\")')\n",
    "display(simpjs)\n"
   ]
  },
  {
   "cell_type": "code",
   "execution_count": 9,
   "id": "d0f92960-8ace-4b1f-81b3-d5c970b2fbbb",
   "metadata": {},
   "outputs": [
    {
     "data": {
      "application/javascript": [
       "\n",
       "var x = 5;\n",
       "var y = 6;\n",
       "var z = x + y;\n",
       "element.textContent = z\n"
      ],
      "text/plain": [
       "<IPython.core.display.Javascript object>"
      ]
     },
     "metadata": {},
     "output_type": "display_data"
    }
   ],
   "source": [
    "js=Javascript(\n",
    "'''\n",
    "var x = 5;\n",
    "var y = 6;\n",
    "var z = x + y;\n",
    "element.textContent = z\n",
    "''')\n",
    "display(js)"
   ]
  },
  {
   "cell_type": "markdown",
   "id": "747c23fb-68dd-4b73-b142-992ec4ed838b",
   "metadata": {},
   "source": [
    "# Promises"
   ]
  },
  {
   "cell_type": "markdown",
   "id": "2fc7b789-100b-4c79-a1e6-8db7ca7f20cd",
   "metadata": {},
   "source": [
    "## Return a value after a delay\n",
    "\n",
    "Strategia:\n",
    "\n",
    "- la `Promise` e' un oggetto il cui costruttore accetta come unico parametro una `executor function`\n",
    "- cioe' una funzione che riceve due parametri `resolve` and `reject` che devono essere due funzioni (callback)\n",
    "- nel corpo dell'executor function viene normalmente invocato un processo asincrono specificando una ulteriore callback \"locale\" che ricevera' a tempo debito il risultato\n",
    "- la callback a sua volta restituisce il risultato mediante `resolve`\n",
    "- l'unico modo che ha il chiamante di ricevere il risultato e' quello di associare un metodo `then()` alla `Promise`"
   ]
  },
  {
   "cell_type": "code",
   "execution_count": 25,
   "id": "939489e1-8b6b-4ee7-95f9-ae36f3a94bfb",
   "metadata": {},
   "outputs": [
    {
     "data": {
      "application/javascript": [
       "\n",
       "function print(text) {\n",
       "    element.textContent = text\n",
       "}\n",
       "\n",
       "function returnValueAfterDelay(value, delay) {\n",
       "    let promise = new Promise(function(resolve, reject) {\n",
       "        function callback() {\n",
       "            resolve(value)\n",
       "        }\n",
       "        setTimeout(callback, delay);\n",
       "    })\n",
       "    return promise\n",
       "}\n",
       "\n",
       "function main() {\n",
       "    returnValueAfterDelay(123, 1000).then(\n",
       "        function(value) {\n",
       "            print(value)\n",
       "        }\n",
       "    )\n",
       "}\n",
       "\n",
       "main()\n"
      ],
      "text/plain": [
       "<IPython.core.display.Javascript object>"
      ]
     },
     "metadata": {},
     "output_type": "display_data"
    }
   ],
   "source": [
    "%%js\n",
    "\n",
    "function print(text) {\n",
    "    element.textContent = text\n",
    "}\n",
    "\n",
    "function returnValueAfterDelay(value, delay) {\n",
    "    let promise = new Promise(function(resolve, reject) {\n",
    "        function callback() {\n",
    "            resolve(value)\n",
    "        }\n",
    "        setTimeout(callback, delay);\n",
    "    })\n",
    "    return promise\n",
    "}\n",
    "\n",
    "function main() {\n",
    "    returnValueAfterDelay(123, 1000).then(\n",
    "        function(value) {\n",
    "            print(value)\n",
    "        }\n",
    "    )\n",
    "}\n",
    "\n",
    "main()"
   ]
  },
  {
   "cell_type": "code",
   "execution_count": 46,
   "id": "05bbc12a-98d0-44f0-85ce-1b9913bc301b",
   "metadata": {},
   "outputs": [
    {
     "data": {
      "application/javascript": [
       "\n",
       "print = (text) => {\n",
       "    element.textContent = text\n",
       "}\n",
       "\n",
       "let returnValueAfterDelay = (value, delay) => {\n",
       "    let promise = new Promise((resolve, reject) => {\n",
       "        let callback = () => resolve(value)\n",
       "        setTimeout(callback, delay)\n",
       "    })\n",
       "    return promise\n",
       "}\n",
       "\n",
       "main = () => {\n",
       "    returnValueAfterDelay(123, 1000).then(\n",
       "        function(value) {\n",
       "            print(value)\n",
       "        }\n",
       "    )\n",
       "}\n",
       "\n",
       "main()\n"
      ],
      "text/plain": [
       "<IPython.core.display.Javascript object>"
      ]
     },
     "metadata": {},
     "output_type": "display_data"
    }
   ],
   "source": [
    "%%js\n",
    "\n",
    "print = (text) => {\n",
    "    element.textContent = text\n",
    "}\n",
    "\n",
    "let returnValueAfterDelay = (value, delay) => {\n",
    "    let promise = new Promise((resolve, reject) => {\n",
    "        let callback = () => resolve(value)\n",
    "        setTimeout(callback, delay)\n",
    "    })\n",
    "    return promise\n",
    "}\n",
    "\n",
    "main = () => {\n",
    "    returnValueAfterDelay(123, 1000).then(\n",
    "        function(value) {\n",
    "            print(value)\n",
    "        }\n",
    "    )\n",
    "}\n",
    "\n",
    "main()"
   ]
  },
  {
   "cell_type": "code",
   "execution_count": null,
   "id": "59147772-91a0-4a3a-8662-8cd1cd76c5c0",
   "metadata": {},
   "outputs": [],
   "source": []
  },
  {
   "cell_type": "code",
   "execution_count": null,
   "id": "c43b9372-226b-4c32-a606-e46400f48255",
   "metadata": {},
   "outputs": [],
   "source": []
  }
 ],
 "metadata": {
  "kernelspec": {
   "display_name": "Python 3 (ipykernel)",
   "language": "python",
   "name": "python3"
  },
  "language_info": {
   "codemirror_mode": {
    "name": "ipython",
    "version": 3
   },
   "file_extension": ".py",
   "mimetype": "text/x-python",
   "name": "python",
   "nbconvert_exporter": "python",
   "pygments_lexer": "ipython3",
   "version": "3.10.13"
  }
 },
 "nbformat": 4,
 "nbformat_minor": 5
}
