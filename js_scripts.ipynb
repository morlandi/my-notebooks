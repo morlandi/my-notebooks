{
 "cells": [
  {
   "cell_type": "markdown",
   "id": "5199f075-f8bb-4a46-90f2-1be330f165a3",
   "metadata": {},
   "source": [
    "# [How to Run JavaScript in the Jupyter Notebook](https://medium.com/@shouke.wei/how-to-run-javascript-in-jupyter-notebook-325a86402f2f)\n",
    "\n",
    "### 1. Use Magic Command\n",
    " \n",
    "The first handy method is to use magic command %%js, or %%javascript to run JavaScript in the Jupyter notebook."
   ]
  },
  {
   "cell_type": "code",
   "execution_count": 18,
   "id": "be892868-5502-4803-9685-97128040233b",
   "metadata": {},
   "outputs": [
    {
     "data": {
      "application/javascript": [
       "console.log(\"hello, world!\");\n",
       "element.textContent = \"hello, world!\";\n"
      ],
      "text/plain": [
       "<IPython.core.display.Javascript object>"
      ]
     },
     "metadata": {},
     "output_type": "display_data"
    }
   ],
   "source": [
    "%%js\n",
    "console.log(\"hello, world!\");\n",
    "element.textContent = \"hello, world!\";"
   ]
  },
  {
   "cell_type": "code",
   "execution_count": 51,
   "id": "2991ef2b-1d59-4e15-a778-f96a69d115e6",
   "metadata": {},
   "outputs": [
    {
     "data": {
      "application/javascript": [
       "let b = document.createElement('b');\n",
       "b.textContent='Hi there!';\n",
       "element.append('A test: ')\n",
       "element.append(b)\n"
      ],
      "text/plain": [
       "<IPython.core.display.Javascript object>"
      ]
     },
     "metadata": {},
     "output_type": "display_data"
    }
   ],
   "source": [
    "%%js\n",
    "let b = document.createElement('b');\n",
    "b.textContent='Hi there!';\n",
    "element.append('A test: ')\n",
    "element.append(b)"
   ]
  },
  {
   "cell_type": "markdown",
   "id": "b23fc08f-1c28-47ac-8392-98641e3f7b5d",
   "metadata": {},
   "source": [
    "### 2. Use IPython JavaScript Module\n",
    "\n",
    "We can also use IPython JavaScript Module to run JavaScript in the Jupyter notebook."
   ]
  },
  {
   "cell_type": "code",
   "execution_count": 2,
   "id": "d4680171-48e6-45e1-ac14-1af0a3a15435",
   "metadata": {},
   "outputs": [
    {
     "data": {
      "application/javascript": [
       "console.log(\"hello, world!\")"
      ],
      "text/plain": [
       "<IPython.core.display.Javascript object>"
      ]
     },
     "metadata": {},
     "output_type": "display_data"
    }
   ],
   "source": [
    "from IPython.display import Javascript\n",
    "\n",
    "simpjs = Javascript('console.log(\"hello, world!\")')\n",
    "display(simpjs)\n"
   ]
  },
  {
   "cell_type": "code",
   "execution_count": 3,
   "id": "d0f92960-8ace-4b1f-81b3-d5c970b2fbbb",
   "metadata": {},
   "outputs": [
    {
     "data": {
      "application/javascript": [
       "\n",
       "var x = 5;\n",
       "var y = 6;\n",
       "var z = x + y;\n",
       "element.textContent = z\n"
      ],
      "text/plain": [
       "<IPython.core.display.Javascript object>"
      ]
     },
     "metadata": {},
     "output_type": "display_data"
    }
   ],
   "source": [
    "js=Javascript(\n",
    "'''\n",
    "var x = 5;\n",
    "var y = 6;\n",
    "var z = x + y;\n",
    "element.textContent = z\n",
    "''')\n",
    "display(js)"
   ]
  },
  {
   "cell_type": "markdown",
   "id": "747c23fb-68dd-4b73-b142-992ec4ed838b",
   "metadata": {},
   "source": [
    "# Promises"
   ]
  },
  {
   "cell_type": "markdown",
   "id": "2fc7b789-100b-4c79-a1e6-8db7ca7f20cd",
   "metadata": {},
   "source": [
    "## Return a value after a delay\n",
    "\n",
    "Strategia:\n",
    "\n",
    "- la `Promise` e' un oggetto il cui costruttore accetta come unico parametro una `executor function`\n",
    "- cioe' una funzione che riceve due parametri `resolve` and `reject` che devono essere due funzioni (callback)\n",
    "- nel corpo dell'executor function viene normalmente invocato un processo asincrono specificando una ulteriore callback \"locale\" che ricevera' a tempo debito il risultato\n",
    "- la callback a sua volta restituisce il risultato mediante `resolve`\n",
    "- l'unico modo che ha il chiamante di ricevere il risultato e' quello di associare un metodo `then()` alla `Promise`"
   ]
  },
  {
   "cell_type": "code",
   "execution_count": 4,
   "id": "939489e1-8b6b-4ee7-95f9-ae36f3a94bfb",
   "metadata": {},
   "outputs": [
    {
     "data": {
      "application/javascript": [
       "\n",
       "function print(text) {\n",
       "    element.textContent = text\n",
       "}\n",
       "\n",
       "function returnValueAfterDelay(value, delay) {\n",
       "    let promise = new Promise(function(resolve, reject) {\n",
       "        function callback() {\n",
       "            resolve(value)\n",
       "        }\n",
       "        setTimeout(callback, delay);\n",
       "    })\n",
       "    return promise\n",
       "}\n",
       "\n",
       "function main() {\n",
       "    returnValueAfterDelay(123, 1000).then(\n",
       "        function(value) {\n",
       "            print(value)\n",
       "        }\n",
       "    )\n",
       "}\n",
       "\n",
       "main()\n"
      ],
      "text/plain": [
       "<IPython.core.display.Javascript object>"
      ]
     },
     "metadata": {},
     "output_type": "display_data"
    }
   ],
   "source": [
    "%%js\n",
    "\n",
    "function print(text) {\n",
    "    element.textContent = text\n",
    "}\n",
    "\n",
    "function returnValueAfterDelay(value, delay) {\n",
    "    let promise = new Promise(function(resolve, reject) {\n",
    "        function callback() {\n",
    "            resolve(value)\n",
    "        }\n",
    "        setTimeout(callback, delay);\n",
    "    })\n",
    "    return promise\n",
    "}\n",
    "\n",
    "function main() {\n",
    "    returnValueAfterDelay(123, 1000).then(\n",
    "        function(value) {\n",
    "            print(value)\n",
    "        }\n",
    "    )\n",
    "}\n",
    "\n",
    "main()"
   ]
  },
  {
   "cell_type": "markdown",
   "id": "d23d3a82-376d-4d54-8a0d-9b4f95d1dd4b",
   "metadata": {},
   "source": [
    "oppure l'analoga versione utilizzando \"arrow functions\" anziche' \"regular functions\" ... (ma davvero qualcuno pensa che sia piu' leggibile?) ..."
   ]
  },
  {
   "cell_type": "code",
   "execution_count": 5,
   "id": "872abce3-f834-4962-8a1a-cce96f9e4f8a",
   "metadata": {},
   "outputs": [
    {
     "data": {
      "application/javascript": [
       "\n",
       "print = (text) => {\n",
       "    element.textContent = text\n",
       "}\n",
       "\n",
       "let returnValueAfterDelay = (value, delay) => {\n",
       "    let promise = new Promise((resolve, reject) => {\n",
       "        let callback = () => resolve(value)\n",
       "        setTimeout(callback, delay)\n",
       "    })\n",
       "    return promise\n",
       "}\n",
       "\n",
       "let main = () => {\n",
       "    returnValueAfterDelay(123, 1000).then(\n",
       "        (value) => print(value)\n",
       "    )\n",
       "}\n",
       "\n",
       "main()\n"
      ],
      "text/plain": [
       "<IPython.core.display.Javascript object>"
      ]
     },
     "metadata": {},
     "output_type": "display_data"
    }
   ],
   "source": [
    "%%js\n",
    "\n",
    "print = (text) => {\n",
    "    element.textContent = text\n",
    "}\n",
    "\n",
    "let returnValueAfterDelay = (value, delay) => {\n",
    "    let promise = new Promise((resolve, reject) => {\n",
    "        let callback = () => resolve(value)\n",
    "        setTimeout(callback, delay)\n",
    "    })\n",
    "    return promise\n",
    "}\n",
    "\n",
    "let main = () => {\n",
    "    returnValueAfterDelay(123, 1000).then(\n",
    "        (value) => print(value)\n",
    "    )\n",
    "}\n",
    "\n",
    "main()"
   ]
  },
  {
   "cell_type": "markdown",
   "id": "da9c1a33-692c-439e-ae82-4adb4eb77ab2",
   "metadata": {},
   "source": [
    "> It is recommended to use regular functions when dealing with Promises, Callback functions with dynamic context, and Object methods."
   ]
  },
  {
   "cell_type": "markdown",
   "id": "7de1a155-dcc6-487d-8bff-3ace27995718",
   "metadata": {},
   "source": [
    "The following function loads an image with a given URL and appends it to a given DOM element:"
   ]
  },
  {
   "cell_type": "code",
   "execution_count": 16,
   "id": "e2ea7c82-43ce-4ef1-b8b3-d5bd00677fce",
   "metadata": {},
   "outputs": [
    {
     "data": {
      "application/javascript": [
       "function print(text) {\n",
       "    let mydiv = document.createElement('div')\n",
       "    mydiv.textContent = text\n",
       "    element.append(mydiv)\n",
       "}\n",
       "\n",
       "\n",
       "function addImage(url, element) {\n",
       "\n",
       "    const request = new XMLHttpRequest()\n",
       "    request.open('GET', url)\n",
       "    request.responseType = 'blob'\n",
       "    request.addEventListener('load', function(value) {\n",
       "        //print(request.status)\n",
       "        print(request.response.size)\n",
       "        const blob = new Blob([request.response], {type: 'image/png'})\n",
       "        console.log('blog: %o', blob)\n",
       "        let img = document.createElement('img')\n",
       "        let url = URL.createObjectURL(blob)\n",
       "        console.log(url)\n",
       "        img.src = url\n",
       "        img.style.width = '150px'\n",
       "        //print(img.src)\n",
       "        element.appendChild(img)\n",
       "    })\n",
       "    request.send()\n",
       "}\n",
       "\n",
       "addImage('./images/Hanafuda_1.png', element)\n"
      ],
      "text/plain": [
       "<IPython.core.display.Javascript object>"
      ]
     },
     "metadata": {},
     "output_type": "display_data"
    }
   ],
   "source": [
    "%%js\n",
    "function print(text) {\n",
    "    let mydiv = document.createElement('div')\n",
    "    mydiv.textContent = text\n",
    "    element.append(mydiv)\n",
    "}\n",
    "\n",
    "\n",
    "function addImage(url, element) {\n",
    "\n",
    "    const request = new XMLHttpRequest()\n",
    "    request.open('GET', url)\n",
    "    request.responseType = 'blob'\n",
    "    request.addEventListener('load', function(value) {\n",
    "        //print(request.status)\n",
    "        print(request.response.size)\n",
    "        const blob = new Blob([request.response], {type: 'image/png'})\n",
    "        console.log('blog: %o', blob)\n",
    "        let img = document.createElement('img')\n",
    "        let url = URL.createObjectURL(blob)\n",
    "        console.log(url)\n",
    "        img.src = url\n",
    "        img.style.width = '150px'\n",
    "        //print(img.src)\n",
    "        element.appendChild(img)\n",
    "    })\n",
    "    request.send()\n",
    "}\n",
    "\n",
    "addImage('./images/Hanafuda_1.png', element)\n"
   ]
  },
  {
   "cell_type": "code",
   "execution_count": null,
   "id": "d514e497-8e1f-4f0e-ab0e-bbd1eae93362",
   "metadata": {},
   "outputs": [],
   "source": []
  },
  {
   "cell_type": "code",
   "execution_count": null,
   "id": "c45c3087-941d-47ea-a2ae-ce0662466af8",
   "metadata": {},
   "outputs": [],
   "source": []
  },
  {
   "cell_type": "code",
   "execution_count": null,
   "id": "0c62407b-1790-41c1-b175-f6e9873418fc",
   "metadata": {},
   "outputs": [],
   "source": []
  }
 ],
 "metadata": {
  "kernelspec": {
   "display_name": "Python 3 (ipykernel)",
   "language": "python",
   "name": "python3"
  },
  "language_info": {
   "codemirror_mode": {
    "name": "ipython",
    "version": 3
   },
   "file_extension": ".py",
   "mimetype": "text/x-python",
   "name": "python",
   "nbconvert_exporter": "python",
   "pygments_lexer": "ipython3",
   "version": "3.10.13"
  }
 },
 "nbformat": 4,
 "nbformat_minor": 5
}
